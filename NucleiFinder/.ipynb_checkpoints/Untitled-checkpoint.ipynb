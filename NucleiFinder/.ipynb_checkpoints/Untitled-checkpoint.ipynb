{
 "cells": [
  {
   "cell_type": "code",
   "execution_count": null,
   "metadata": {},
   "outputs": [],
   "source": [
    "import os\n",
    "import sys\n",
    "import random\n",
    "import math\n",
    "import re\n",
    "import time\n",
    "import numpy as np\n",
    "import cv2\n",
    "import matplotlib\n",
    "import matplotlib.pyplot as plt\n",
    "import pandas as pd\n",
    "from src.config import Config\n",
    "import src.utils\n",
    "import src.visualize as visualize\n",
    "import src.model as modellib\n",
    "from src.model import log\n",
    "import src.utils as utils\n",
    "from skimage.io import imread, imread_collection\n",
    "\n"
   ]
  },
  {
   "cell_type": "code",
   "execution_count": null,
   "metadata": {},
   "outputs": [],
   "source": [
    "\n",
    "class NucleiData(utils.Dataset):\n",
    "    def uploadImages(self, imagesIDs,train=True):\n",
    "        self.add_class(\"Nuclei\", 1, \"Nuclei\")\n",
    "        if train:\n",
    "            for imageID in imagesIDs:\n",
    "                impath = \"input/stage1_train/{}/images/{}.png\".format(imageID, imageID)\n",
    "                self.add_image('Nuclei', imageID, impath)\n",
    "        else:\n",
    "            for imageID in imagesIDs:\n",
    "                impath = \"input/stage1_test/{}/images/{}.png\".format(imageID, imageID)\n",
    "                self.add_image('Nuclei', imageID, impath)\n",
    "\n",
    "    def load_mask(self, image_id):\n",
    "        path = \"input/stage1_train/{}/masks/*.png\".format(self.image_info[image_id]['id'])\n",
    "        mask = imread_collection(path).concatenate()\n",
    "        mask = np.swapaxes(mask, 2, 0)\n",
    "        mask = np.swapaxes(mask, 1, 0)\n",
    "        class_IDS = np.ones([mask.shape[2]])\n",
    "        return mask.astype(np.bool), class_IDS.astype(np.int32)\n"
   ]
  },
  {
   "cell_type": "code",
   "execution_count": null,
   "metadata": {},
   "outputs": [],
   "source": [
    "\n",
    "class NucleuiConfig(Config):\n",
    "    NAME = \"Nuclei\"\n",
    "    GPU_COUNT = 1\n",
    "    IMAGES_PER_GPU = 1\n",
    "    NUM_CLASSES = 2\n",
    "    IMAGE_MIN_DIM = 128\n",
    "    IMAGE_MAX_DIM = 1024\n",
    "\n",
    "    TRAIN_ROIS_PER_IMAGE = 100\n",
    "\n",
    "    STEPS_PER_EPOCH = 1000\n",
    "    VALIDATION_STEPS = 50\n",
    "\n",
    "\n",
    "config = NucleuiConfig()\n",
    "config.display()"
   ]
  },
  {
   "cell_type": "code",
   "execution_count": null,
   "metadata": {},
   "outputs": [],
   "source": [
    "\n",
    "train_labels = pd.read_csv('input/stage1_train_labels.csv')\n",
    "imageIDs = np.array(train_labels['ImageId'])\n",
    "trainsplit = int(imageIDs.size * 0.8)\n",
    "\n",
    "trainSet = NucleiData()\n",
    "trainSet.uploadImages(imageIDs[:trainsplit])\n",
    "trainSet.prepare()\n",
    "\n",
    "validationSet = NucleiData()\n",
    "validationSet.uploadImages(imageIDs[trainsplit:])\n",
    "validationSet.prepare()\n"
   ]
  },
  {
   "cell_type": "code",
   "execution_count": null,
   "metadata": {},
   "outputs": [],
   "source": [
    "\n",
    "# Root directory of the project\n",
    "ROOT_DIR = os.getcwd()\n",
    "\n",
    "# Directory to save logs and trained model\n",
    "MODEL_DIR = os.path.join(ROOT_DIR, \"maskRCNN\")\n",
    "MODEL_DIR = 'maskRCNN'\n",
    "model = modellib.MaskRCNN(mode=\"training\",\n",
    "                          config=config,\n",
    "                          model_dir=MODEL_DIR\n",
    "                          )"
   ]
  },
  {
   "cell_type": "code",
   "execution_count": null,
   "metadata": {},
   "outputs": [],
   "source": [
    "model.train(trainSet, validationSet,\n",
    "            learning_rate=NucleuiConfig.LEARNING_RATE,\n",
    "            epochs=2, layers='heads')\n"
   ]
  },
  {
   "cell_type": "code",
   "execution_count": null,
   "metadata": {},
   "outputs": [],
   "source": []
  },
  {
   "cell_type": "code",
   "execution_count": null,
   "metadata": {},
   "outputs": [],
   "source": []
  },
  {
   "cell_type": "code",
   "execution_count": null,
   "metadata": {},
   "outputs": [],
   "source": []
  },
  {
   "cell_type": "code",
   "execution_count": null,
   "metadata": {},
   "outputs": [],
   "source": []
  },
  {
   "cell_type": "code",
   "execution_count": null,
   "metadata": {},
   "outputs": [],
   "source": []
  }
 ],
 "metadata": {
  "kernelspec": {
   "display_name": "Python 3",
   "language": "python",
   "name": "python3"
  },
  "language_info": {
   "codemirror_mode": {
    "name": "ipython",
    "version": 3
   },
   "file_extension": ".py",
   "mimetype": "text/x-python",
   "name": "python",
   "nbconvert_exporter": "python",
   "pygments_lexer": "ipython3",
   "version": "3.6.5"
  }
 },
 "nbformat": 4,
 "nbformat_minor": 2
}
