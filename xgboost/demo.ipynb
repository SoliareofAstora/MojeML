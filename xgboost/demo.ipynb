{
 "cells": [
  {
   "cell_type": "code",
   "execution_count": 19,
   "metadata": {},
   "outputs": [],
   "source": [
    "from bootstrap import *\n",
    "import xgboost as xgb\n",
    "\n",
    "import pandas as pd\n",
    "import numpy as np\n",
    "from sklearn.metrics import accuracy_score\n",
    "from sklearn.ensemble import GradientBoostingClassifier\n",
    "\n",
    "import warnings\n",
    "warnings.simplefilter(\"ignore\")\n",
    "np.random.seed(500)"
   ]
  },
  {
   "cell_type": "code",
   "execution_count": 20,
   "metadata": {},
   "outputs": [
    {
     "name": "stdout",
     "output_type": "stream",
     "text": [
      "     age  sex  cp  trestbps  chol  fbs  restecg  thalach  exang  oldpeak  \\\n",
      "259   38    1   3       120   231    0        1      182      1      3.8   \n",
      "138   57    1   0       110   201    0        1      126      1      1.5   \n",
      "136   60    0   2       120   178    1        1       96      0      0.0   \n",
      "\n",
      "     slope  ca  thal  target  \n",
      "259      1   0     3       0  \n",
      "138      1   0     1       1  \n",
      "136      2   0     2       1  \n",
      "\n",
      "tal samples: 303 \ttrain: 100\t test: 203\n"
     ]
    }
   ],
   "source": [
    "data = pd.read_csv('data/heart.csv')\n",
    "data = data.sample(frac=1)\n",
    "print(data.sample(3))\n",
    "\n",
    "y = data[\"target\"]\n",
    "x = data.drop(columns = ['target'])\n",
    "x = np.array(x)\n",
    "y = np.array(y)\n",
    "\n",
    "trainSize = 100\n",
    "print(\"\\ntal samples: %d \\ttrain: %d\\t test: %d\" % (y.__len__(),trainSize,y.__len__()-trainSize))\n",
    "xtrain, xtest = x[:trainSize],x[trainSize:]\n",
    "ytrain, ytest = y[:trainSize],y[trainSize:]"
   ]
  },
  {
   "cell_type": "code",
   "execution_count": 21,
   "metadata": {},
   "outputs": [
    {
     "name": "stdout",
     "output_type": "stream",
     "text": [
      "the accuracy of models with the same \n",
      "\n",
      "Simple decision tree: \t0.6946\n",
      "Majority trees voting: \t0.7783\n",
      "xgboost XGBClassifier: \t0.8424\n",
      "sklearn gradientboost: \t0.8079\n"
     ]
    }
   ],
   "source": [
    "print(\"the accuracy of models with the same \\n\")\n",
    "\n",
    "tree = decisionTree()\n",
    "tree.fit(xtrain,ytrain)\n",
    "print(\"Simple decision tree: \\t%.4f\"%accuracy_score(ytest,tree.predict(xtest)))\n",
    "\n",
    "bagg = bagger()\n",
    "bagg.fit(xtrain,ytrain)\n",
    "print(\"Majority trees voting: \\t%.4f\"%accuracy_score(ytest,bagg.predict(xtest)))\n",
    "\n",
    "xgboost = xgb.XGBClassifier()\n",
    "xgboost.fit(xtrain,ytrain)\n",
    "print(\"xgboost XGBClassifier: \\t%.4f\"%accuracy_score(ytest,xgboost.predict(xtest)))\n",
    "\n",
    "sklearn = GradientBoostingClassifier()\n",
    "sklearn.fit(xtrain,ytrain)\n",
    "print(\"sklearn gradientboost: \\t%.4f\"%accuracy_score(ytest,sklearn.predict(xtest)))"
   ]
  },
  {
   "cell_type": "markdown",
   "metadata": {},
   "source": [
    "Moja próba stworzenia boostowanego lasu która wprawdzie się liczy, ale w złą stronę. Prawdopodobnie wynika to z pomyłki w zaimplementowanej matematyce. Próbowałem zaimplementować algorytm zaprezentowany na wykładzie MIT\n",
    "\n",
    "https://youtu.be/UHBmv7qCey4?t=27m10s (na małym zabawkowym przykadzie działało)"
   ]
  },
  {
   "cell_type": "code",
   "execution_count": 22,
   "metadata": {},
   "outputs": [
    {
     "name": "stdout",
     "output_type": "stream",
     "text": [
      "boosted forrest: \t0.5369\n"
     ]
    }
   ],
   "source": [
    "forrest = boostedForrest()\n",
    "forrest.fit(xtrain,ytrain)\n",
    "print(\"boosted forrest: \\t%.4f\"%accuracy_score(ytest,forrest.predict(xtest)))"
   ]
  },
  {
   "cell_type": "markdown",
   "metadata": {},
   "source": [
    "Liść podstawowego drzewa zwraca 2 elementową listę [waga,klasa] co w przyszłości pozwoli mi zaimplementować las w którym będę optymalizował nie wagi całych drzew w modelu, a wagi samych liści na drzewach."
   ]
  },
  {
   "cell_type": "code",
   "execution_count": null,
   "metadata": {},
   "outputs": [],
   "source": []
  }
 ],
 "metadata": {
  "kernelspec": {
   "display_name": "Python 3",
   "language": "python",
   "name": "python3"
  },
  "language_info": {
   "codemirror_mode": {
    "name": "ipython",
    "version": 3
   },
   "file_extension": ".py",
   "mimetype": "text/x-python",
   "name": "python",
   "nbconvert_exporter": "python",
   "pygments_lexer": "ipython3",
   "version": "3.6.5"
  }
 },
 "nbformat": 4,
 "nbformat_minor": 2
}
