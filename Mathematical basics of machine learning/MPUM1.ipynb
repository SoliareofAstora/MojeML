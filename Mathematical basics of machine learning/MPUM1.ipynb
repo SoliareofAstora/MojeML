{
  "nbformat": 4,
  "nbformat_minor": 0,
  "metadata": {
    "colab": {
      "name": "MPUM.ipynb",
      "version": "0.3.2",
      "views": {},
      "default_view": {},
      "provenance": []
    },
    "kernelspec": {
      "name": "python3",
      "display_name": "Python 3"
    }
  },
  "cells": [
    {
      "metadata": {
        "id": "nV6Yegve_Eru",
        "colab_type": "text"
      },
      "cell_type": "markdown",
      "source": [
        "# Materiały pomocnicze\n",
        "* https://www.tutorialspoint.com/python/index.htm\n",
        "* http://cs231n.github.io/python-numpy-tutorial/"
      ]
    },
    {
      "metadata": {
        "id": "7UrRL0cQLjPB",
        "colab_type": "text"
      },
      "cell_type": "markdown",
      "source": [
        "# Dlaczego Python do uczenia maszynowego?\n",
        "\n",
        "\n",
        "*   Dosyć dobre wsparcie dla obiektowości pozwala tworzyć szybko biblioteki: Bardzo dużo użytecznych : numpy/tensroflow/keras/gensim\n",
        "*   Interpretowalność i dynamiczna kontorla typów pozwala na szybkie protytopowanie małych projektów. Dla większych projektów staje się to przeszkodą \n",
        "*   W porównaniu do R do można używać Pythona od razu na produkcji. \n",
        "* Bardzo duża społeczność (więcej materiałów/bibliotek, łatwiej uzyskać odpowiedź na pytanie)\n",
        "\n",
        "\n",
        "\n",
        "  \n",
        "  \n",
        " "
      ]
    },
    {
      "metadata": {
        "id": "5Hx2Oab--XKF",
        "colab_type": "text"
      },
      "cell_type": "markdown",
      "source": [
        "# Którego IDE używać?\n",
        "\n",
        "\n",
        "* PyCharm - pełnoprawne środowisko od JetBrains:\n",
        "  * posiada świetny debbugger - przydatne jeśli chcemy przeanalizować fragent kodu, który nieznamy\n",
        "  * środowisko \"data sciene\" (niestety wciąż dosyć kiepskie)\n",
        "  * istnieje możliwość uruchamiania części kodu, jednak wciąż kiepskie\n",
        "* Jupyter Notebook:\n",
        "  * Lokalnie/Przeglądarka: \n",
        "    * można używać wszędzie (nawet na telefonie)\n",
        "    * ale brakuje debuggera\n",
        "  * JupyterLab - TODO: write info\n",
        "  * Colab - trochę bardziej rozszerzona przeglądarka:\n",
        "    * można współpracować z kolegami\n",
        "    * można używać apt-get oraz pip\n",
        "    * karta graficzna k80 za darmo\n",
        "    \n",
        "Czego używać?\n",
        "Do większych projektów PyCharm. Do mniejszych jupyter lab/jupyter notebook"
      ]
    },
    {
      "metadata": {
        "id": "rmRh78DZ6NJ7",
        "colab_type": "text"
      },
      "cell_type": "markdown",
      "source": [
        "# Uzyskiwanie pomocy\n",
        "\n",
        "Python pozwala na uzyskanie pomocy z interpetera:\n",
        "\n",
        "help(obiekt) - uzycie obiekt\n",
        "\n",
        "dir(obiekt) - pokaz wszystkie dostepne metody "
      ]
    },
    {
      "metadata": {
        "id": "2PZ9Xy8w6THw",
        "colab_type": "code",
        "colab": {
          "autoexec": {
            "startup": false,
            "wait_interval": 0
          }
        }
      },
      "cell_type": "code",
      "source": [
        "help(print)"
      ],
      "execution_count": 0,
      "outputs": []
    },
    {
      "metadata": {
        "id": "TvNWxVAd7S9d",
        "colab_type": "code",
        "colab": {
          "autoexec": {
            "startup": false,
            "wait_interval": 0
          }
        }
      },
      "cell_type": "code",
      "source": [
        "dir(print)"
      ],
      "execution_count": 0,
      "outputs": []
    },
    {
      "metadata": {
        "id": "Q_-JdKb_8Zhx",
        "colab_type": "code",
        "colab": {
          "autoexec": {
            "startup": false,
            "wait_interval": 0
          }
        }
      },
      "cell_type": "code",
      "source": [
        "# Operatory:\n",
        "\n",
        "assert 2 + 3 == 0 # dodawanie\n",
        "assert 2 * 3 == 0 # mnozenie\n",
        "assert 2 ** 3 == 0 # potegowanie\n",
        "assert 2 / 3 == 0 # dzielenie z reszta\n",
        "assert 2 // 3 == 0 # dzielenie calkowite\n",
        "\n",
        "# W pythonie nie istnieją operatory inkrementacji/dekrementacji"
      ],
      "execution_count": 0,
      "outputs": []
    },
    {
      "metadata": {
        "id": "OhgLR-cBAAL-",
        "colab_type": "text"
      },
      "cell_type": "markdown",
      "source": [
        "# Zadanie 1 (0 pkt)\n",
        "Napraw asserty"
      ]
    },
    {
      "metadata": {
        "id": "wCaitFHx9iYF",
        "colab_type": "code",
        "colab": {
          "autoexec": {
            "startup": false,
            "wait_interval": 0
          }
        }
      },
      "cell_type": "code",
      "source": [
        "# Operatory przypisania:\n",
        "x = 3 # przypisanie\n",
        "x += 3 # dodawanie z przypisaniem\n",
        "x -= 3 # odejmowanie z przypisaniem\n",
        "x *= 3 # mnozenie z przypisanie\n",
        "x /= 3 # dzielenie z przypisaniem\n",
        "x "
      ],
      "execution_count": 0,
      "outputs": []
    },
    {
      "metadata": {
        "id": "zCmrK8Ni_TFy",
        "colab_type": "text"
      },
      "cell_type": "markdown",
      "source": [
        "# Pytanie 1 (0 pkt)\n",
        "Dlaczego x zmienił typ na zmienno przecinkowy?"
      ]
    },
    {
      "metadata": {
        "id": "mGBTpcJvewq8",
        "colab_type": "text"
      },
      "cell_type": "markdown",
      "source": [
        "# Bloki\n",
        "W pythonie nawiasy {} (c++/java) są zastąpione pzrez wcięcia (spacje/tabulatory). Twórcy języka zdecydowali tak, aby użytkownik od początku uczył się poprawnego formatowania kodu. Często sprawia to problemy, jak np. otwieramy kod w innym edytorze, albo kopiujemy kod z innego źródła.\n",
        "\n",
        "# Funkcje\n",
        "Funkcje tworzy używając def oraz bloku, można podawać do funkcji domyślne argumenty\n",
        "\n",
        "\n",
        "```\n",
        "def increment(x=0):\n",
        "  return x+1\n",
        "```\n",
        "\n"
      ]
    },
    {
      "metadata": {
        "id": "aqGrUEj5AUA-",
        "colab_type": "text"
      },
      "cell_type": "markdown",
      "source": [
        "# Najważniejsze typy danych:\n",
        "\n",
        "Konstruktor/operator języka konstruktor\n",
        "\n",
        "* dict()/{klucz: wartosc} - Słownik. Mapa w Javie - szybkie odwolywanie\n",
        "* set()/{} - Zbiór. \n",
        "* list/()[] - Lista\n",
        "* tuple()/() - krotka\n",
        "* \"abc\"/'abc' - string"
      ]
    },
    {
      "metadata": {
        "id": "bukbA8bU_qD2",
        "colab_type": "text"
      },
      "cell_type": "markdown",
      "source": [
        "# Listy\n",
        "\n",
        "Może składać się z elementów różnego typu, np. str, intów\n",
        "\n",
        "Odwoływanie się do listy:\n",
        "\n",
        "* mylist[0] - zerowy element\n",
        "* mylist[0:2] - wycinek (slice) listy zerowy i pierwszy element, slice\n",
        "* mylist[-1] - ostatni element listy\n",
        "* mylist[:3] - wszystkie elementy do 3 elementu\n",
        "* mylist[2:] - wszystkie elementy od drugiego\n",
        "* mylist[::2] - co drugi element\n",
        "* mylist[::-1] - odwróć listę\n",
        "\n",
        "Inne operatory:\n",
        "* mylist1 + mylist2 - nowa lista składająca się z 2 poprzednich\n",
        "* mylist * 3 - powiela listę 3 razy\n",
        "* mylist[4] = 0 - przypisuje do na 4 pozycję element 0\n",
        "* len(mylist) - zwraca długość listy\n",
        "* 4 in mylist - sprawdza czy 4 znajduje się w liście\n"
      ]
    },
    {
      "metadata": {
        "id": "0lMLHkxCOBk8",
        "colab_type": "text"
      },
      "cell_type": "markdown",
      "source": [
        "# Zadanie 2 (0 pkt)\n",
        "\n",
        "Uzupełnij aserty"
      ]
    },
    {
      "metadata": {
        "id": "9lV6surcOVmp",
        "colab_type": "code",
        "colab": {
          "autoexec": {
            "startup": false,
            "wait_interval": 0
          }
        }
      },
      "cell_type": "code",
      "source": [
        "mylist = [1, [\"a\", \"b\"], \"abc\", 2]\n",
        "\n",
        "assert mylist[0] == 0\n",
        "assert mylist[0:2] == 0\n",
        "assert mylist[-1] == 0\n",
        "assert myslist[::2] == 0\n",
        "assert mylist + [3, 4] == 0\n",
        "assert mylist * 3 == 0\n",
        "\n",
        "mylist[3] = 5\n",
        "\n",
        "\n",
        "assert len(mylist) == 0\n",
        "assert 4 in mylist"
      ],
      "execution_count": 0,
      "outputs": []
    },
    {
      "metadata": {
        "id": "lpJb5mk2RKZt",
        "colab_type": "code",
        "colab": {
          "autoexec": {
            "startup": false,
            "wait_interval": 0
          }
        }
      },
      "cell_type": "code",
      "source": [
        ""
      ],
      "execution_count": 0,
      "outputs": []
    },
    {
      "metadata": {
        "id": "q7o3vqAkNDIm",
        "colab_type": "text"
      },
      "cell_type": "markdown",
      "source": [
        "# Zadanie: palindrom (0 pkt)\n",
        "\n",
        "Napisz w jednej linijce sprawdzenie, czy x (lista) jest palindromem, używając tylko operatora dostępu"
      ]
    },
    {
      "metadata": {
        "id": "SFhRaVlZaAgY",
        "colab_type": "text"
      },
      "cell_type": "markdown",
      "source": [
        "\n",
        "#Tuple\n",
        "\n",
        "Krotka (tuple) - zachowuje sie praktycznie jak lista tylko, nie można zmieniać wartości. Najczęściej używane jeśli chcemy zwrócić coś w funkcji lub przekazać jako argument."
      ]
    },
    {
      "metadata": {
        "id": "mAIrvaykc-Uj",
        "colab_type": "text"
      },
      "cell_type": "markdown",
      "source": [
        "# Słownik\n",
        "\n",
        "Mapa postaci klucz <-> wartość. O(1) czas dostępu. Od Pythona 3.5 lub 3.6 domyślnie klucze są posortowane. Bardzo przydatne, tak samo jak lista.\n",
        "\n",
        "\n",
        "```\n",
        "dict() - pusty słownik\n",
        "{'key': 'value'} - slownik z kluczem key oraz wartoscia value\n",
        "mydict.keys() - zwraca klucze jako listę\n",
        "mydict.values() - zwraca wartości jako listę\n",
        "mydict.items() - zwraca listę tupli (klucz, wartość)\n",
        "\n",
        "```"
      ]
    },
    {
      "metadata": {
        "id": "6FjK0XhfxDuj",
        "colab_type": "text"
      },
      "cell_type": "markdown",
      "source": [
        "# Zadanie: asserty słownik (0 pkt)\n",
        "Uzupełnij asserty"
      ]
    },
    {
      "metadata": {
        "id": "oNPCEXYYf8CN",
        "colab_type": "code",
        "colab": {
          "autoexec": {
            "startup": false,
            "wait_interval": 0
          }
        }
      },
      "cell_type": "code",
      "source": [
        "import unittest\n",
        "mydict = {0: 'a'}\n",
        "mydict[1] = 'b'\n",
        "\n",
        "\n",
        "assert mydict[0] == 0\n",
        "\n",
        "assert sorted(mydict.keys()) == 0\n",
        "assert sorted(mydict.values()) == 0\n",
        "assert sorted(mydict.items()) == 0\n"
      ],
      "execution_count": 0,
      "outputs": []
    },
    {
      "metadata": {
        "id": "rTbmLIfU1QVe",
        "colab_type": "text"
      },
      "cell_type": "markdown",
      "source": [
        "# Zadanie: counter (0 pkt)\n",
        "\n",
        "Napisz funkcję, która przyjmuje listę a zwraca słownik z policzoną ilością poszczególnych elementów. Np. \n",
        "\n",
        "```\n",
        "counter(['a', 'b', 'b']) -> {'a': 1, 'b': 2}\n",
        "```\n",
        "\n",
        "W pythonie istnieje klasa collections.Counter, która robi to samo"
      ]
    },
    {
      "metadata": {
        "id": "IujIY76Y1Npe",
        "colab_type": "code",
        "colab": {
          "autoexec": {
            "startup": false,
            "wait_interval": 0
          }
        }
      },
      "cell_type": "code",
      "source": [
        "def counter(l):\n",
        "  return l\n",
        "\n",
        "l = ['a', 'b', 'b']\n",
        "assert counter(l) == {'a': 1, 'b': 2}"
      ],
      "execution_count": 0,
      "outputs": []
    },
    {
      "metadata": {
        "id": "wmqeNku-yLDN",
        "colab_type": "text"
      },
      "cell_type": "markdown",
      "source": [
        "# Stringi\n",
        "\n",
        "str(obiekt) - tworzy string na podstawie obiektu. String w pythonie zachowuje się podobnie jak lista, czyli można:\n",
        "\n",
        "```\n",
        "mystring = \"abc\"\n",
        "mystring[0] -> \"a\"\n",
        "```\n",
        "\n",
        "```\n",
        "\"x wynosi: {}\".format(3) - podstawia wszystkie wystąpienia {} przez argument\n",
        "```"
      ]
    },
    {
      "metadata": {
        "id": "Oeh_fux8_Zj0",
        "colab_type": "code",
        "colab": {
          "autoexec": {
            "startup": false,
            "wait_interval": 0
          }
        }
      },
      "cell_type": "code",
      "source": [
        "mystring = \"abc\"\n",
        "assert mystring + \"def\" == 0\n",
        "assert mystring[0] == 0\n",
        "assert \"x: {}\".format(0) == 0"
      ],
      "execution_count": 0,
      "outputs": []
    },
    {
      "metadata": {
        "id": "-EuzjlcfDWkY",
        "colab_type": "text"
      },
      "cell_type": "markdown",
      "source": [
        "# Control statement\n",
        "\n",
        "Nie ma nawiasów, tylko spacje oraz nawiasy\n",
        "\n",
        "# If\n",
        "if/elif/else oraz wcięcia\n",
        "\n",
        "Nie istnieje jednak operator switch, zazwyczaj się zastępuje poprzez if/elif\n",
        "\n",
        "Operator logiczny jest pisany slowami: and (&&) oraz or (||)\n",
        "\n",
        "# Pętle\n",
        "\n",
        "\n",
        "for - używa iterowanie najczęściej po liście, więc jest to bardziej pętla for each. Można iterować jak w c++ używając funkcji range()\n",
        "\n",
        "while - podobnie jak c++/java:\n"
      ]
    },
    {
      "metadata": {
        "id": "1Kjvu7qGCuV_",
        "colab_type": "code",
        "colab": {
          "autoexec": {
            "startup": false,
            "wait_interval": 0
          }
        }
      },
      "cell_type": "code",
      "source": [
        "password = \"secret\"\n",
        "if password == \"secret\" or password == \"secret1\":\n",
        "  print('Know my secret')\n",
        "elif passowrd == \"password\":\n",
        "  print(\"You know my other password\")\n",
        "else:\n",
        "  print(\"You don't know any of my password\")"
      ],
      "execution_count": 0,
      "outputs": []
    },
    {
      "metadata": {
        "id": "MULfyJKkDR4K",
        "colab_type": "code",
        "colab": {
          "autoexec": {
            "startup": false,
            "wait_interval": 0
          }
        }
      },
      "cell_type": "code",
      "source": [
        "start = 0\n",
        "step = 2\n",
        "end = 4\n",
        "list(range(start, end, step)) # zwraca listę od start to end używając kroku step"
      ],
      "execution_count": 0,
      "outputs": []
    },
    {
      "metadata": {
        "id": "by7zEaMpEIlW",
        "colab_type": "code",
        "colab": {
          "autoexec": {
            "startup": false,
            "wait_interval": 0
          }
        }
      },
      "cell_type": "code",
      "source": [
        "for i in range(4):\n",
        "  print(i)\n",
        "  \n",
        "i = 0\n",
        "while i < 4:\n",
        "  print(i)\n",
        "  i += 1"
      ],
      "execution_count": 0,
      "outputs": []
    },
    {
      "metadata": {
        "id": "2edzhB12KACi",
        "colab_type": "code",
        "colab": {
          "autoexec": {
            "startup": false,
            "wait_interval": 0
          }
        }
      },
      "cell_type": "code",
      "source": [
        "class Person:\n",
        "  pass # pass jest uzywane jesli mamy blok, a nie chcemy w nic zawrzeć\n",
        "\n",
        "class Student(Person):\n",
        "  #klasa student jest dziedziczona po person\n",
        "  class_variable = 0 \n",
        "  \n",
        "  def __init__(self, name):\n",
        "    self.name = name\n",
        "    #konstruktor - self aktualny obiekt\n",
        "    self.knowledge = 0 \n",
        "  \n",
        "  def learn(self):\n",
        "    # aktualny obiekt \n",
        "    self.knowledge += 1\n",
        "  \n",
        "  @staticmethod\n",
        "  def static_method():\n",
        "    # metoda statyczna\n",
        "    print(Student.class_variable)\n",
        "  \n",
        "  \n",
        "s1 = Student(\"Karol\")\n",
        "s2 = Student(\"Piotr\")\n",
        "\n",
        "s1.learn()\n",
        "Student.class_variable += 1\n",
        "Student.static_method()\n",
        "Student.name = \"Piotr Jozef\""
      ],
      "execution_count": 0,
      "outputs": []
    },
    {
      "metadata": {
        "id": "J9M-NiDdZftJ",
        "colab_type": "text"
      },
      "cell_type": "markdown",
      "source": [
        "#Exceptions \n"
      ]
    },
    {
      "metadata": {
        "id": "2I8e3jbQY9YK",
        "colab_type": "code",
        "colab": {
          "autoexec": {
            "startup": false,
            "wait_interval": 0
          }
        }
      },
      "cell_type": "code",
      "source": [
        "def divide(x):\n",
        "    try:\n",
        "        # Division by zero raises an exception\n",
        "        x = x / 0\n",
        "    except ZeroDivisionError:\n",
        "        # We are trying to catch specific type of exception, we catch multiple exceptions\n",
        "        print(\"Oops, invalid.\")\n",
        "    else:\n",
        "        pass\n",
        "        # Otherwise\n",
        "    finally:\n",
        "        # This is executed after the code block is run\n",
        "        # and all exceptions have been handled, even\n",
        "        # if a new exception is raised while handling.\n",
        "        print(\"We're done with that.\")\n",
        "     "
      ],
      "execution_count": 0,
      "outputs": []
    },
    {
      "metadata": {
        "id": "nbehp5QDG4-r",
        "colab_type": "text"
      },
      "cell_type": "markdown",
      "source": [
        "# Zadanie: sortowanie + pkt\n",
        "\n",
        "Zaimplementuj dowolne sortowanie działający w czasie O(n^2)"
      ]
    },
    {
      "metadata": {
        "id": "fXPT9tOdBZZn",
        "colab_type": "text"
      },
      "cell_type": "markdown",
      "source": [
        "# Inne operatory\n"
      ]
    },
    {
      "metadata": {
        "id": "irMRCC-RBrSg",
        "colab_type": "code",
        "colab": {
          "autoexec": {
            "startup": false,
            "wait_interval": 0
          }
        }
      },
      "cell_type": "code",
      "source": [
        "string = \"abc\"\n",
        "type(string) # zwraca typ danych\n"
      ],
      "execution_count": 0,
      "outputs": []
    },
    {
      "metadata": {
        "id": "me6Y6eRWm7Bl",
        "colab_type": "code",
        "colab": {
          "autoexec": {
            "startup": false,
            "wait_interval": 0
          }
        }
      },
      "cell_type": "code",
      "source": [
        "from math import *\n",
        "\n",
        "print(ceil(4.7)) # zwraca sufit liczby rzeczywistej\n",
        "print(floor(4.7)) # zwraca podłogę liczby rzeczywistej\n",
        "print(fabs(-3)) # zwraca wartość absolutną liczby rzeczywistej\n",
        "print(modf(2.5)) # zwraca krotkę zawierającą część ułamkową i całkowitą liczby rzeczywistej\n",
        "print(exp(2)) # zwraca e do potęgi x\n",
        "print(log(e)) # zwraca logarytm naturalny\n",
        "print(log(8, 2)) # zwraca logarytm o podstawie 2 (drugi parametr)\n",
        "print(sqrt(2.25)) # zwraca pierwiastek kwadratowy\n",
        "print(cos(1))"
      ],
      "execution_count": 0,
      "outputs": []
    },
    {
      "metadata": {
        "id": "FcHAft-U-1Hv",
        "colab_type": "text"
      },
      "cell_type": "markdown",
      "source": [
        "# Ankieta"
      ]
    },
    {
      "metadata": {
        "id": "memWcnWjmmsV",
        "colab_type": "code",
        "colab": {
          "autoexec": {
            "startup": false,
            "wait_interval": 0
          },
          "output_extras": [
            {
              "item_id": 1
            }
          ],
          "base_uri": "https://localhost:8080/",
          "height": 34
        },
        "outputId": "40b15a49-e9b6-4608-82d3-4d1f08b47c9f",
        "executionInfo": {
          "status": "ok",
          "timestamp": 1519829455279,
          "user_tz": -60,
          "elapsed": 461,
          "user": {
            "displayName": "Piotr Kowenzowski",
            "photoUrl": "//lh6.googleusercontent.com/-5pXKUloOV7U/AAAAAAAAAAI/AAAAAAAAADo/3u9G2Bfuuwg/s50-c-k-no/photo.jpg",
            "userId": "105307541921279928055"
          }
        }
      },
      "cell_type": "code",
      "source": [
        "f = lambda x: x+10 # tworzy funkcje lambda (tak jakby inline), można używać jeśli potrzebuje\n",
        "[(i+10)*3 for i in range(5)] # list comprehension - szybsze tworzenie pętli, których wynikiem jest lista\n",
        "{(i+2)/2 for i in range(5)} # set comprehension - szybsze tworzenie petli, których wynikiem jest set"
      ],
      "execution_count": 22,
      "outputs": [
        {
          "output_type": "execute_result",
          "data": {
            "text/plain": [
              "{1.0, 1.5, 2.0, 2.5, 3.0}"
            ]
          },
          "metadata": {
            "tags": []
          },
          "execution_count": 22
        }
      ]
    },
    {
      "metadata": {
        "id": "S6Lw5vzb-Rvp",
        "colab_type": "text"
      },
      "cell_type": "markdown",
      "source": [
        "# Numpy\n",
        "\n",
        "Numpy - jest biblioteka do obliczeń numerycznych, używa się podobnie jak matlaba\n",
        "\n",
        "\n",
        "Większość kodów pochodzi z: http://cs231n.github.io/python-numpy-tutorial/"
      ]
    },
    {
      "metadata": {
        "id": "dsX4Nch2BLKo",
        "colab_type": "code",
        "colab": {
          "autoexec": {
            "startup": false,
            "wait_interval": 0
          }
        }
      },
      "cell_type": "code",
      "source": [
        "import numpy as np\n",
        "\n",
        "a = np.array([1, 2, 3])   # Create a rank 1 array\n",
        "print(type(a))            # Prints \"<class 'numpy.ndarray'>\"\n",
        "print(a.shape)            # Prints \"(3,)\"\n",
        "print(a[0], a[1], a[2])   # Prints \"1 2 3\"\n",
        "a[0] = 5                  # Change an element of the array\n",
        "print(a)                  # Prints \"[5, 2, 3]\"\n",
        "\n",
        "b = np.array([[1,2,3],[4,5,6]])    # Create a rank 2 array\n",
        "print(b.shape)                     # Prints \"(2, 3)\"\n",
        "print(b[0, 0], b[0, 1], b[1, 0])   # Prints \"1 2 4\""
      ],
      "execution_count": 0,
      "outputs": []
    },
    {
      "metadata": {
        "id": "cUaNK-84F40x",
        "colab_type": "text"
      },
      "cell_type": "markdown",
      "source": [
        "# Tworzenie macierzy"
      ]
    },
    {
      "metadata": {
        "id": "jauxRIC-FpGc",
        "colab_type": "code",
        "colab": {
          "autoexec": {
            "startup": false,
            "wait_interval": 0
          }
        }
      },
      "cell_type": "code",
      "source": [
        "a = np.zeros((2,2))   # Create an array of all zeros\n",
        "print(a)              # Prints \"[[ 0.  0.]\n",
        "                      #          [ 0.  0.]]\"\n",
        "\n",
        "b = np.ones((1,2))    # Create an array of all ones\n",
        "print(b)              # Prints \"[[ 1.  1.]]\"\n",
        "\n",
        "c = np.full((2,2), 7)  # Create a constant array\n",
        "print(c)               # Prints \"[[ 7.  7.]\n",
        "                       #          [ 7.  7.]]\"\n",
        "\n",
        "d = np.eye(2)         # Create a 2x2 identity matrix\n",
        "print(d)              # Prints \"[[ 1.  0.]\n",
        "                      #          [ 0.  1.]]\"\n",
        "\n",
        "e = np.random.random((2,2))  # Create an array filled with random values\n",
        "print(e)                     # Might print \"[[ 0.91940167  0.08143941]\n",
        "                             #               [ 0.68744134  0.87236687]]\"\n"
      ],
      "execution_count": 0,
      "outputs": []
    },
    {
      "metadata": {
        "id": "aKi-zgXBHoB6",
        "colab_type": "code",
        "colab": {
          "autoexec": {
            "startup": false,
            "wait_interval": 0
          }
        }
      },
      "cell_type": "code",
      "source": [
        "import numpy as np\n",
        "\n",
        "# Create the following rank 2 array with shape (3, 4)\n",
        "# [[ 1  2  3  4]\n",
        "#  [ 5  6  7  8]\n",
        "#  [ 9 10 11 12]]\n",
        "a = np.array([[1,2,3,4], [5,6,7,8], [9,10,11,12]])\n",
        "\n",
        "# Use slicing to pull out the subarray consisting of the first 2 rows\n",
        "# and columns 1 and 2; b is the following array of shape (2, 2):\n",
        "# [[2 3]\n",
        "#  [6 7]]\n",
        "b = a[:2, 1:3]\n",
        "\n",
        "# A slice of an array is a view into the same data, so modifying it\n",
        "# will modify the original array.\n",
        "print(a[0, 1])   # Prints \"2\"\n",
        "b[0, 0] = 77     # b[0, 0] is the same piece of data as a[0, 1]\n",
        "print(a[0, 1])   # Prints \"77\""
      ],
      "execution_count": 0,
      "outputs": []
    },
    {
      "metadata": {
        "id": "i7FfT31DfYKr",
        "colab_type": "code",
        "colab": {
          "autoexec": {
            "startup": false,
            "wait_interval": 0
          }
        }
      },
      "cell_type": "code",
      "source": [
        "import numpy as np\n",
        "\n",
        "# Create the following rank 2 array with shape (3, 4)\n",
        "# [[ 1  2  3  4]\n",
        "#  [ 5  6  7  8]\n",
        "#  [ 9 10 11 12]]\n",
        "a = np.array([[1,2,3,4], [5,6,7,8], [9,10,11,12]])\n",
        "\n",
        "# Two ways of accessing the data in the middle row of the array.\n",
        "# Mixing integer indexing with slices yields an array of lower rank,\n",
        "# while using only slices yields an array of the same rank as the\n",
        "# original array:\n",
        "row_r1 = a[1, :]    # Rank 1 view of the second row of a\n",
        "row_r2 = a[1:2, :]  # Rank 2 view of the second row of a\n",
        "print(row_r1, row_r1.shape)  # Prints \"[5 6 7 8] (4,)\"\n",
        "print(row_r2, row_r2.shape)  # Prints \"[[5 6 7 8]] (1, 4)\"\n",
        "\n",
        "# We can make the same distinction when accessing columns of an array:\n",
        "col_r1 = a[:, 1]\n",
        "col_r2 = a[:, 1:2]\n",
        "print(col_r1, col_r1.shape)  # Prints \"[ 2  6 10] (3,)\"\n",
        "print(col_r2, col_r2.shape)  # Prints \"[[ 2]\n",
        "                             #          [ 6]\n",
        "                             #          [10]] (3, 1)\""
      ],
      "execution_count": 0,
      "outputs": []
    },
    {
      "metadata": {
        "id": "4OySNVQtiSG5",
        "colab_type": "code",
        "colab": {
          "autoexec": {
            "startup": false,
            "wait_interval": 0
          }
        }
      },
      "cell_type": "code",
      "source": [
        "import numpy as np\n",
        "\n",
        "a = np.array([[1,2], [3, 4], [5, 6]])\n",
        "\n",
        "# An example of integer array indexing.\n",
        "# The returned array will have shape (3,) and\n",
        "print(a[[0, 1, 2], [0, 1, 0]])  # Prints \"[1 4 5]\"\n",
        "\n",
        "# The above example of integer array indexing is equivalent to this:\n",
        "print(np.array([a[0, 0], a[1, 1], a[2, 0]]))  # Prints \"[1 4 5]\"\n",
        "\n",
        "# When using integer array indexing, you can reuse the same\n",
        "# element from the source array:\n",
        "print(a[[0, 0], [1, 1]])  # Prints \"[2 2]\"\n",
        "\n",
        "# Equivalent to the previous integer array indexing example\n",
        "print(np.array([a[0, 1], a[0, 1]]))  # Prints \"[2 2]\""
      ],
      "execution_count": 0,
      "outputs": []
    },
    {
      "metadata": {
        "id": "mU8Ar4aEmIcE",
        "colab_type": "code",
        "colab": {
          "autoexec": {
            "startup": false,
            "wait_interval": 0
          }
        }
      },
      "cell_type": "code",
      "source": [
        "import numpy as np\n",
        "\n",
        "a = np.array([[1,2], [3, 4], [5, 6]])\n",
        "\n",
        "bool_idx = (a > 2)   # Find the elements of a that are bigger than 2;\n",
        "                     # this returns a numpy array of Booleans of the same\n",
        "                     # shape as a, where each slot of bool_idx tells\n",
        "                     # whether that element of a is > 2.\n",
        "\n",
        "print(bool_idx)      # Prints \"[[False False]\n",
        "                     #          [ True  True]\n",
        "                     #          [ True  True]]\"\n",
        "\n",
        "# We use boolean array indexing to construct a rank 1 array\n",
        "# consisting of the elements of a corresponding to the True values\n",
        "# of bool_idx\n",
        "print(a[bool_idx])  # Prints \"[3 4 5 6]\"\n",
        "\n",
        "# We can do all of the above in a single concise statement:\n",
        "print(a[a > 2])     # Prints \"[3 4 5 6]\""
      ],
      "execution_count": 0,
      "outputs": []
    },
    {
      "metadata": {
        "id": "rD45FmgMmfQP",
        "colab_type": "code",
        "colab": {
          "autoexec": {
            "startup": false,
            "wait_interval": 0
          }
        }
      },
      "cell_type": "code",
      "source": [
        "import numpy as np\n",
        "\n",
        "x = np.array([1, 2])   # Let numpy choose the datatype\n",
        "print(x.dtype)         # Prints \"int64\"\n",
        "\n",
        "x = np.array([1.0, 2.0])   # Let numpy choose the datatype\n",
        "print(x.dtype)             # Prints \"float64\"\n",
        "\n",
        "x = np.array([1, 2], dtype=np.int64)   # Force a particular datatype\n",
        "print(x.dtype)                         # Prints \"int64\""
      ],
      "execution_count": 0,
      "outputs": []
    },
    {
      "metadata": {
        "id": "42q8ZZSIinhw",
        "colab_type": "code",
        "colab": {
          "autoexec": {
            "startup": false,
            "wait_interval": 0
          }
        }
      },
      "cell_type": "code",
      "source": [
        "import numpy as np\n",
        "\n",
        "x = np.array([[1,2],[3,4]])\n",
        "y = np.array([[5,6],[7,8]])\n",
        "\n",
        "v = np.array([9,10])\n",
        "w = np.array([11, 12])\n",
        "\n",
        "# Inner product of vectors; both produce 219\n",
        "print(v.dot(w))\n",
        "print(np.dot(v, w))\n",
        "\n",
        "# Matrix / vector product; both produce the rank 1 array [29 67]\n",
        "print(x.dot(v))\n",
        "print(np.dot(x, v))\n",
        "\n",
        "# Matrix / matrix product; both produce the rank 2 array\n",
        "# [[19 22]\n",
        "#  [43 50]]\n",
        "print(x.dot(y))\n",
        "print(np.dot(x, y))"
      ],
      "execution_count": 0,
      "outputs": []
    },
    {
      "metadata": {
        "id": "Uc6MHrXdoWN3",
        "colab_type": "code",
        "colab": {
          "autoexec": {
            "startup": false,
            "wait_interval": 0
          }
        }
      },
      "cell_type": "code",
      "source": [
        "import numpy as np\n",
        "\n",
        "x = np.array([[1,2],[3,4]])\n",
        "\n",
        "print(np.sum(x))  # Compute sum of all elements; prints \"10\"\n",
        "print(np.sum(x, axis=0))  # Compute sum of each column; prints \"[4 6]\"\n",
        "print(np.sum(x, axis=1))  # Compute sum of each row; prints \"[3 7]\""
      ],
      "execution_count": 0,
      "outputs": []
    },
    {
      "metadata": {
        "id": "ez8U6bh-pEsI",
        "colab_type": "code",
        "colab": {
          "autoexec": {
            "startup": false,
            "wait_interval": 0
          }
        }
      },
      "cell_type": "code",
      "source": [
        "import numpy as np\n",
        "\n",
        "x = np.array([[1,2], [3,4]])\n",
        "print(x)    # Prints \"[[1 2]\n",
        "            #          [3 4]]\"\n",
        "print(x.T)  # Prints \"[[1 3]\n",
        "            #          [2 4]]\"\n",
        "\n",
        "# Note that taking the transpose of a rank 1 array does nothing:\n",
        "v = np.array([1,2,3])\n",
        "print(v)    # Prints \"[1 2 3]\"\n",
        "print(v.T)  # Prints \"[1 2 3]\""
      ],
      "execution_count": 0,
      "outputs": []
    },
    {
      "metadata": {
        "id": "G8euZQ6tpF6x",
        "colab_type": "code",
        "colab": {
          "autoexec": {
            "startup": false,
            "wait_interval": 0
          }
        }
      },
      "cell_type": "code",
      "source": [
        "import numpy as np\n",
        "\n",
        "# We will add the vector v to each row of the matrix x,\n",
        "# storing the result in the matrix y\n",
        "x = np.array([[1,2,3], [4,5,6], [7,8,9], [10, 11, 12]])\n",
        "v = np.array([1, 0, 1])\n",
        "y = np.empty_like(x)   # Create an empty matrix with the same shape as x\n",
        "\n",
        "# Add the vector v to each row of the matrix x with an explicit loop\n",
        "for i in range(4):\n",
        "    y[i, :] = x[i, :] + v\n",
        "\n",
        "# Now y is the following\n",
        "# [[ 2  2  4]\n",
        "#  [ 5  5  7]\n",
        "#  [ 8  8 10]\n",
        "#  [11 11 13]]\n",
        "print(y)"
      ],
      "execution_count": 0,
      "outputs": []
    },
    {
      "metadata": {
        "id": "8xnnegdiq2Zx",
        "colab_type": "code",
        "colab": {
          "autoexec": {
            "startup": false,
            "wait_interval": 0
          }
        }
      },
      "cell_type": "code",
      "source": [
        "import numpy as np\n",
        "\n",
        "# We will add the vector v to each row of the matrix x,\n",
        "# storing the result in the matrix y\n",
        "x = np.array([[1,2,3], [4,5,6], [7,8,9], [10, 11, 12]])\n",
        "v = np.array([1, 0, 1])\n",
        "vv = np.tile(v, (4, 1))   # Stack 4 copies of v on top of each other\n",
        "print(vv)                 # Prints \"[[1 0 1]\n",
        "                          #          [1 0 1]\n",
        "                          #          [1 0 1]\n",
        "                          #          [1 0 1]]\"\n",
        "y = x + vv  # Add x and vv elementwise\n",
        "print(y)  # Prints \"[[ 2  2  4\n",
        "          #          [ 5  5  7]\n",
        "          #          [ 8  8 10]\n",
        "          #          [11 11 13]]\""
      ],
      "execution_count": 0,
      "outputs": []
    },
    {
      "metadata": {
        "id": "HsXr-hharHXL",
        "colab_type": "code",
        "colab": {
          "autoexec": {
            "startup": false,
            "wait_interval": 0
          }
        }
      },
      "cell_type": "code",
      "source": [
        "import numpy as np\n",
        "\n",
        "# We will add the vector v to each row of the matrix x,\n",
        "# storing the result in the matrix y\n",
        "x = np.array([[1,2,3], [4,5,6], [7,8,9], [10, 11, 12]])\n",
        "v = np.array([1, 0, 1])\n",
        "y = x + v  # Add v to each row of x using broadcasting\n",
        "print(y)  # Prints \"[[ 2  2  4]\n",
        "          #          [ 5  5  7]\n",
        "          #          [ 8  8 10]\n",
        "          #          [11 11 13]]\""
      ],
      "execution_count": 0,
      "outputs": []
    },
    {
      "metadata": {
        "id": "EmFo3BDdru83",
        "colab_type": "code",
        "colab": {
          "autoexec": {
            "startup": false,
            "wait_interval": 0
          }
        }
      },
      "cell_type": "code",
      "source": [
        "import numpy as np\n",
        "\n",
        "# Compute outer product of vectors\n",
        "v = np.array([1,2,3])  # v has shape (3,)\n",
        "w = np.array([4,5])    # w has shape (2,)\n",
        "# To compute an outer product, we first reshape v to be a column\n",
        "# vector of shape (3, 1); we can then broadcast it against w to yield\n",
        "# an output of shape (3, 2), which is the outer product of v and w:\n",
        "# [[ 4  5]\n",
        "#  [ 8 10]\n",
        "#  [12 15]]\n",
        "print(np.reshape(v, (3, 1)) * w)\n",
        "\n",
        "# Add a vector to each row of a matrix\n",
        "x = np.array([[1,2,3], [4,5,6]])\n",
        "# x has shape (2, 3) and v has shape (3,) so they broadcast to (2, 3),\n",
        "# giving the following matrix:\n",
        "# [[2 4 6]\n",
        "#  [5 7 9]]\n",
        "print(x + v)\n",
        "\n",
        "# Add a vector to each column of a matrix\n",
        "# x has shape (2, 3) and w has shape (2,).\n",
        "# If we transpose x then it has shape (3, 2) and can be broadcast\n",
        "# against w to yield a result of shape (3, 2); transposing this result\n",
        "# yields the final result of shape (2, 3) which is the matrix x with\n",
        "# the vector w added to each column. Gives the following matrix:\n",
        "# [[ 5  6  7]\n",
        "#  [ 9 10 11]]\n",
        "print((x.T + w).T)\n",
        "# Another solution is to reshape w to be a column vector of shape (2, 1);\n",
        "# we can then broadcast it directly against x to produce the same\n",
        "# output.\n",
        "print(x + np.reshape(w, (2, 1)))\n",
        "\n",
        "# Multiply a matrix by a constant:\n",
        "# x has shape (2, 3). Numpy treats scalars as arrays of shape ();\n",
        "# these can be broadcast together to shape (2, 3), producing the\n",
        "# following array:\n",
        "# [[ 2  4  6]\n",
        "#  [ 8 10 12]]\n",
        "print(x * 2)"
      ],
      "execution_count": 0,
      "outputs": []
    },
    {
      "metadata": {
        "id": "FawgD5So4YcD",
        "colab_type": "code",
        "colab": {
          "autoexec": {
            "startup": false,
            "wait_interval": 0
          }
        }
      },
      "cell_type": "code",
      "source": [
        ""
      ],
      "execution_count": 0,
      "outputs": []
    },
    {
      "metadata": {
        "id": "ODj47DrtstQ3",
        "colab_type": "text"
      },
      "cell_type": "markdown",
      "source": [
        "# Zadania: numpy1 + pkt (za zrobienie większości)\n",
        "\n",
        "Jeśli macierz nie jest określona przyjmij macierz dowolnego rozmiaru\n",
        "\n",
        "1. Znormalizuj (średnia 0, wariancja 1) losowa macierz 5x5\n",
        "1. Stwórz macierz 4x4 typu bool, true na przekątnej\n",
        "1. Wybierz parzyste elementy z losowego wektora 5x5\n",
        "1. Z wektora [1 .. 10] zastąp parzyste elementy przez 0\n",
        "1. Utwórz [1 .. 100 ] rozmiaru 10 x 10\n",
        "1. Połącz ze sobą 2 wektory horyzontalnie\n",
        "1. Znajdź wspólne elementy w 2 losowych wektorach 10 x 1 (intersect1d)\n",
        "1. W losowej macierzy 10 x 10 zamień ze sobą 0 i 3 kolumnę (slicing)\n",
        "1. Wypisz wektor 20 x 1, wypisują wszystkie liczby (bez ucinania) (np.set_printoptions)\n",
        "1. Wygeneruj macierz floatów w przedziale 4x4"
      ]
    },
    {
      "metadata": {
        "id": "xgDmKZbA0ZhT",
        "colab_type": "text"
      },
      "cell_type": "markdown",
      "source": [
        "# Zadania: numpy2 + pkt (za zrobienie większości)\n",
        "\n",
        "1. Odejmij od każdej kolumny średnią kolumny\n",
        "2. Znajdź najbliższą wartość w macierzy (A) do podanej wartości (x)\n",
        "3. W macierzy 20x20 znajdź sumę w bloków, rozmiar bloku (5x5)"
      ]
    },
    {
      "metadata": {
        "id": "r-qA-vvu2TQo",
        "colab_type": "text"
      },
      "cell_type": "markdown",
      "source": [
        "Więcej zadań (może częśc odpowiedzi nawet):\n",
        "\n",
        "1. https://www.labri.fr/perso/nrougier/teaching/numpy.100/index.html\n",
        "1. https://www.machinelearningplus.com/101-numpy-exercises-python/"
      ]
    }
  ]
}